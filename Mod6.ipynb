{
 "cells": [
  {
   "cell_type": "markdown",
   "metadata": {},
   "source": [
    "## **FUNGSI REKURSIF dan EROR HANDLING**\n",
    "\n",
    "\n",
    "### 1. **Tujuan Praktikum**\n",
    "Setelah mempelajari modul ini, mahasiswa diharapkan dapat:\n",
    "\n",
    "✓ Mampu menelaah penyebab sintax error pada proses input dan ouput (I/O) dan\n",
    "merancang exception dengan menerapkan konsep kondisi dan perulangan\n",
    "\n",
    "✓ Mampu menerapkan rekusif untuk persoalan-persoalan sederhana.\n",
    "\n",
    "### **2. Materi**\n",
    "\n",
    "#### **2.1. Error/Bug**\n",
    "\n",
    "Semakin komplek fungsi dan program yang dibuat, maka semakin banyak celah yang memungkinkan program terdapat kesalahan. Dalam menangani input dari pengguna, kita perlu memperhatikan potensi kesalahan yang mungkin terjadi sehingga program tidak bisa berjalan dengan semestinya. Untuk lebih jelasnya, perhatikan program yang meminta input usia pengguna, kemudian program akan menampilkan apakah pengguna termasuk lansia, dewasa, remaja, kanak-kanak atau balita. Program tersebut adalah sebagai berikut:\n"
   ]
  },
  {
   "cell_type": "code",
   "execution_count": null,
   "metadata": {},
   "outputs": [
    {
     "ename": "",
     "evalue": "",
     "output_type": "error",
     "traceback": [
      "\u001b[1;31mThe kernel failed to start due to the missing module 'imp'. Consider installing this module.\n",
      "\u001b[1;31mClick <a href='https://aka.ms/kernelFailuresMissingModule'>here</a> for more info."
     ]
    }
   ],
   "source": [
    "usia = int(input(\"Masukkan usia anda: \"))\n",
    "if usia <= 5:\n",
    "    print(\"Balita\")\n",
    "elif usia >= 6 and usia <= 11:\n",
    "    print(\"Kanak-kanak\")\n",
    "elif usia >= 12 and usia <= 25:\n",
    "    print(\"Remaja\")\n",
    "elif usia >= 26 and usia <= 45:\n",
    "    print(\"Dewasa\")\n",
    "elif usia > 45:\n",
    "    print(\"Lansia\")"
   ]
  },
  {
   "cell_type": "markdown",
   "metadata": {},
   "source": [
    "Jika program tersebut dijalankan beberapa kali dengan input yang berbeda-beda, hasilnya  telah sesuai dengan yang diharapkan. Namun bagaimana cara menangani input yang tidak  sesuai. Salah satu cara yang dapat digunakan adalah menggunakan try dan except.  Penggunaannya dalam kasus kategori usia dapat dilihat pada source code program berikut ini :"
   ]
  },
  {
   "cell_type": "code",
   "execution_count": null,
   "metadata": {},
   "outputs": [],
   "source": [
    "inputuser = input(\"Masukkan usia anda: \")\n",
    "try:\n",
    "    usia = int(inputuser)\n",
    "    if usia <= 5:\n",
    "        print(\"Balita\")\n",
    "    elif usia >= 6 and usia <= 11:\n",
    "        print(\"Kanak-kanak\")\n",
    "    elif usia >= 12 and usia <= 25:\n",
    "        print(\"Remaja\")\n",
    "    elif usia >= 26 and usia <= 45:\n",
    "        print(\"Dewasa\")\n",
    "    elif usia > 45:\n",
    "        print(\"Lansia\")\n",
    "except:\n",
    "    print(\"Anda salah memasukkan input usia\")"
   ]
  },
  {
   "cell_type": "markdown",
   "metadata": {},
   "source": [
    "\n",
    "Di python, ada 2 jenis error, yaitu syntax error dan exception. \n",
    "\n",
    "**• Syntax Error** : jenis error yang timbul karena kesalahan pada syntax yang tidak mengikuti aturan bahasa pemrograman. Error jenis ini bisa ditemukan letaknya oleh parser sebelum program tersebut dieksekusi. Misalnya saat menggunakan 10v atau True sebagai nama variable. \n",
    "\n",
    "**• Exception** : meskipun secara syntax sudah tidak terdapat error, namun instruksi tertentu  mungkin menimbulkan error saat dieksekusi. Sebagai contoh ketika kita ingin  menggunakan nilai variable harga yang ternyata belum pernah di-assign sebelumnya,  maka akan muncul error bahwa variable belum didefinisikan (is not defined). \n",
    "Kedua jenis error tersebut termasuk yang mudah ditemukan dan diperbaiki, karena  biasanya Python bisa menunjukkan lokasi error sebelum atau setelah program gagal  dieksekusi. Ada jenis error yang lain yang paling sulit untuk ditemukan, yaitu logic error. \n",
    "\n",
    "**• Logic Error** : logic error adalah yang paling sulit dikarenakan program yang dibuat  \n",
    "seperti berjalan dengan baik tanpa error yang membuat program berhenti, namun output  atau perilaku program tidak seperti yang seharusnya. Misalnya anda membuat program  konversi nilai dari angka ke index, program berjalan dengan lancar, namun nilai 100  ternyata dikonversikan ke “E”, padahal harusnya “A”. Python tidak bisa menunjuk baris kode yang menyebabkan kesalahan output tersebut, sehingga programmer sendiri  yang harus menelusuri kode yang telah dibuatnya. Semakin kompleks program, maka  akan semakin sulit mencari letak kode yang menyebabkan logic error. \n",
    "\n",
    "**Defensive Programming **\n",
    "\n",
    "Defensive programming adalah sebuah pendekatan dalam memprogram dimana  programmer selalu berhati-hati dan memikirkan berbagai kondisi yang memungkinkan  terjadinya kesalahan, serta berusaha mengantisipasinya. Berikut adalah beberapa langkah  umum dalam defensive programming: \n",
    "\n",
    "• Menerapkan modularisasi pada program melalui fungsi. Memecah program yang besar  menjadi modul-modul kecil seharusnya sudah dipikirkan sejak proses mendesain  program.  \n",
    "\n",
    "• Menuliskan spesifikasi fungsi dengan jelas pada docstring. Spesifikasi yang jelas  tentang input dan output yang diharapkan akan menghindari kesalahpahaman oleh  programmer lain atau pun user yang akan memakai fungsi yang kita buat.  \n",
    "\n",
    "• Mengecek kondisi input/output pada fungsi dengan assertion. Untuk memastikan  output sesuai harapan, maka input harus selalu sesuai dengan asumsi programmer.  Untuk itu, jika terjadi input yang tidak sesuai, maka programmer bisa memilih untuk  menghentikan program sehingga user menyadari terdapat kesalahan. \n",
    "\n",
    "**Assertion **\n",
    "\n",
    "Assertion adalah suatu pengecekan untuk memastikan suatu kondisi harus benar untuk  bisa melakukan proses berikutnya. Mirip seperti if-statement, namun bedanya, jika  kondisi False, maka program akan dihentikan. Sehingga assertion digunakan hanya  untuk pengecekan yang krusial, yang jika False maka program sebaiknya dihentikan. \n",
    "\n",
    "#### 2.2. Exception Handling \n",
    "\n",
    "Sebelumnya kita telah membahas tentang perbedaan syntax error dengan exception,  dimana exception muncul saat program sedang dieksekusi. \n",
    "Ada banyak jenis exception bawaan Python (built-in exception), di antaranya: \n",
    "\n",
    "• NameError\n",
    "\n",
    "• TypeError \n",
    "\n",
    "• ValueError \n",
    "\n",
    "• ZeroDivisionError \n",
    "\n",
    "Penanganan exception, agar program tidak terhenti biasa disebut dengan exception  handling. Contoh Penggunaan Exception Handling sebagai berikut: \n",
    "\n",
    "**try**: #kode yang mungkin menimbulkan exception \n",
    "\n",
    "**except**: #apa yang dilakukan jika terjadi exception \n",
    "\n",
    "**else**: #dijalankan jika kode pada try tidak menimbulkan exception \n",
    "\n",
    "• try berisi kode yang mungkin menimbulkan eksepsi yang ingin kita tangani agar  program tidak crash. Jika try berhasil (tidak muncul exception), maka eksekusi akan  dilanjutkan ke block else (jika ada), atau ke statemen setelah try-except. \n",
    "\n",
    "• except bertugas menangkap jenis exception yang muncul pada block try, lalu  mengeksekusi statement di body except. \n",
    "\n",
    "• else bersifat opsional, dan body else hanya dijalankan ketika semua kode di  dalam try berhasil dieksekusi tanpa memunculkan exception. \n",
    "\n",
    "#### **2.3. Fungsi Rekursif**\n",
    "\n",
    "Fungsi rekursif adalah fungsi yang berisi dirinya sendiri atau fungsi yang mendefinisikan  dirinya sendiri. Fungsi ini sering disebut sebagai fungsi yang memanggil dirinya sendiri.  Fungsi rekursif merupakan fungsi matematis yang berulang dan memiliki pola yang  terstruktur, namun biasanya fungsi ini perlu diperhatikan agar fungsi ini dapat berhenti dan  tidak menghabiskan memori. Fungsi rekursif merupakan fungsi yang harus digunakan  secara hati-hati karena fungsi ini dapat bersifat unlimited loop sehingga menyebabkan  program hang up. Fungsi ini akan terus berjalan sampai kondisi berhenti terpenuhi, oleh  karena itu dalam sebuah fungsi rekursif perlu terdapat 2 blok penting, yaitu blok yang  menjadi titik berhenti dari sebuah proses rekursif dan blok yang memanggil dirinya sendiri.  Di dalam rekursif terdapat 2 bagian: \n",
    "\n",
    "• Base Case adalah bagian dimana penentu bahwa fungsi rekursif itu berhenti \n",
    "\n",
    "• Rekursif Case adalah bagian dimana terdapat statement yang akan terus diulang-terus  menerus hingga mencapai Base Case \n",
    "\n",
    "Keunggulan fungsi rekursif adalah sebagai berikut:  \n",
    "\n",
    "1. Kode program lebih singkat dan elegan.  \n",
    "\n",
    "2. Masalah kompleks dapat di breakdown menjadi sub masalah yang lebih kecil di dalam  rekursif Sedangkan  \n",
    "\n",
    "Kelemahan fungsi rekursif adalah:  \n",
    "\n",
    "1. Memakan memori yang lebih besar karena setiap kali bagian dirinya dipanggil maka  dibutuhkan sejumlah ruang memori tambahan.  \n",
    "\n",
    "2. Mengorbankan efisiensi dan kecepatan. \n",
    "\n",
    "3. Fungsi rekursif sulit dilakukan debugging dan kadang sulit dimengerti \n",
    "\n",
    "Sebenarnya semua fungsi rekursif pasti memiliki solusi iteratifnya. Misalnya pada contoh  kasus factorial. Faktorial adalah menghitung perkalian deret angka 1x2x3x ... x n.  Algoritma untuk menghitung faktorial adalah:  \n",
    "\n",
    "1. Tanyakan n  \n",
    "\n",
    "2. Siapkan variabel total untuk menampung hasil perkalian faktorial dan set nilai awal  dengan 0  \n",
    "\n",
    "3. Loop dari i = 1 hingga n untuk mengerjakan:  \n",
    "\n",
    "4. total = total * i  \n",
    "\n",
    "5. Tampilkan total Dengan menggunakan fungsi rekursif maka faktorial dapat dihitung  dengan rumus pada gambar \n",
    "\n",
    "\n"
   ]
  },
  {
   "cell_type": "markdown",
   "metadata": {},
   "source": [
    "### **3. Latihan Praktikum Error Handling**\n",
    "\n",
    "Tia, Rini, dan Dimas adalah teman sekantor yang merencanakan liburan bersama ke pantai.  Mereka memutuskan untuk membuat anggaran agar pengeluaran. Tia, menawarkan untuk  memasukkan rincian biaya ke dalam sebuah program sederhana di laptopnya. Program ini  akan menghitung total biaya liburan berdasarkan tabungan masing-masing, sekaligus  memeriksa jika ada yang salah memasukkan jumlah uang."
   ]
  },
  {
   "cell_type": "code",
   "execution_count": null,
   "metadata": {},
   "outputs": [],
   "source": [
    "def masukkan_tabungan(nama):\n",
    "    while True:\n",
    "        try:\n",
    "            tabungan = int(input(f\"Masukkan tabungan {nama}: \"))\n",
    "            return tabungan\n",
    "        except:\n",
    "            print(\"Input tidak valid. Pastikan untuk memasukkan jumlah uang dalam angka.\")\n",
    "\n",
    "def hitung_total_tabungan():\n",
    "    # Memasukkan kontribusi masing-masing\n",
    "    tabungan_tia = masukkan_tabungan(\"Tia\")\n",
    "    tabungan_rini = masukkan_tabungan(\"Rini\")\n",
    "    tabungan_dimas = masukkan_tabungan(\"Dimas\")\n",
    "\n",
    "    # Menghitung total kontribusi\n",
    "    total_tabungan = tabungan_tia + tabungan_rini + tabungan_dimas\n",
    "    print(f\"Total biaya liburan: {total_tabungan}\")\n",
    "\n",
    "# Menjalankan fungsi\n",
    "hitung_total_tabungan()"
   ]
  },
  {
   "cell_type": "markdown",
   "metadata": {},
   "source": [
    "\n",
    "Ketika Rini mulai memasukkan kontribusi mereka, ia salah mengetik jumlah uang dan  memasukkan huruf sebagai gantinya. Program segera memberi peringatan bahwa input  tidak valid. \n"
   ]
  },
  {
   "cell_type": "markdown",
   "metadata": {},
   "source": [
    "### **4. Latihan Praktikum Fungsi Rekursif**\n",
    "\n",
    "Pada kegiatan praktikum akan dilakukan beberapa percobaaan kasus yang dapat  diselesaikan dengan menggunakan fungsi rekursif.  \n",
    "\n",
    "1. Buatlah sebuah program yang dapat melakukan perkalian antara 2 buah bilangan  dengan menggunakan fungsi rekursif. Misalkan kita ingin mengalikan angka 2  dengan 4. Dengan metode penjumlahan diperoleh 2*4 = 2 + 2 + 2 + 2 = 8.\n"
   ]
  },
  {
   "cell_type": "code",
   "execution_count": null,
   "metadata": {},
   "outputs": [],
   "source": [
    "def perkalian(bil1, bil2):\n",
    "    if bil2 == 1:\n",
    "        print(\"%d = \" % (bil1), end='')\n",
    "        return bil1\n",
    "    else:\n",
    "        print(\"%d + \" % (bil1), end='')\n",
    "        return bil1 + perkalian(bil1, bil2 - 1)\n",
    "\n",
    "print(perkalian(2, 4))"
   ]
  },
  {
   "cell_type": "markdown",
   "metadata": {},
   "source": [
    "2. Buatlah sebuah program yang dapat melakukan pemangkatan antara 2 buah bilangan  dengan menggunakan fungsi rekursif. Misalkan kita ingin memangkatkan angka 2  dengan 4. Dengan metode penjumlahan diperoleh 2**4 = 2 * 2 * 2 * 2 = 16. Untuk  menjawab soal tersebut dapat dilihat logikanya hampir sama dengan kasus 1 \n",
    "sebelumnya. Hanya saja operatornya diganti dengan * bukan +.  \n"
   ]
  },
  {
   "cell_type": "code",
   "execution_count": null,
   "metadata": {},
   "outputs": [],
   "source": [
    "def pangkat(bil1, bil2):\n",
    "    if bil2 == 1:\n",
    "        print(\"%d = \" % (bil1), end='')\n",
    "        return bil1\n",
    "    else:\n",
    "        print(\"%d * \" % (bil1), end='')\n",
    "        return bil1 * perkalian(bil1, bil2 - 1)\n",
    "\n",
    "print(pangkat(2, 4))"
   ]
  },
  {
   "cell_type": "markdown",
   "metadata": {},
   "source": [
    "3. Tini adalah anak yang pelupa, ia mendapatkan tugas untuk mencari bilangan pada  deret Fibonacci dengan urutan tertentu. Dari pada harus selalu menghitung dari awal,  bantulah Tini dengan membuatkan program yang menampilkan bilangan tertentu  pada deret Fibonacci sesuai dengan urutan yang diinputkan user. Yang perlu diingat,  berikut ini adalah bentuk deret Fibonacci. 1 1 2 3 5 8 13 21 34 ... n. Bilangan fibonacci  adalah bilangan yang berasal dari penjumlahan 2 bilangan sebelumnya."
   ]
  },
  {
   "cell_type": "code",
   "execution_count": null,
   "metadata": {},
   "outputs": [],
   "source": [
    "def fibo(n):\n",
    "    f1, f2 = 1, 1\n",
    "    print(f1, \",\", f2, \",\", end='')\n",
    "\n",
    "    for i in range(2, n):\n",
    "        fib = f1 + f2\n",
    "        f1 = f2\n",
    "        f2 = fib\n",
    "        print(fib, \",\", end='')\n",
    "\n",
    "fibo(7)"
   ]
  }
 ],
 "metadata": {
  "kernelspec": {
   "display_name": "Python 3",
   "language": "python",
   "name": "python3"
  },
  "language_info": {
   "codemirror_mode": {
    "name": "ipython",
    "version": 3
   },
   "file_extension": ".py",
   "mimetype": "text/x-python",
   "name": "python",
   "nbconvert_exporter": "python",
   "pygments_lexer": "ipython3",
   "version": "3.12.6"
  }
 },
 "nbformat": 4,
 "nbformat_minor": 2
}
